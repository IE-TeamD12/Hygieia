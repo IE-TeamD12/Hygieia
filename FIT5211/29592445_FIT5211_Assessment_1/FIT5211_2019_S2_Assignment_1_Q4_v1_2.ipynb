{
 "cells": [
  {
   "cell_type": "markdown",
   "metadata": {
    "colab_type": "text",
    "id": "-QvpCY7ryDKU"
   },
   "source": [
    "# Question 4: Complexity analysis (20 marks)\n",
    "You are a researcher at Monash University working on a divide and conquer \n",
    "algorithm to solve a pesky problem P.\n",
    "\n",
    "The University eventually decides it would like you to decide whether to use the current known approach A which recursively divides a problem into 4 subproblems, each of size $n/7$ combining solutions in $O(n^2)$ time to solve P, or your own \n",
    "approach of an algorithm B which recursively divides 7 subproblems, each of size $n/4$, combining solutions in O($\\sqrt n$) time.\n"
   ]
  },
  {
   "cell_type": "markdown",
   "metadata": {
    "colab_type": "text",
    "id": "dW86tIP8oI0H"
   },
   "source": [
    "## Q4.1 (8 marks)\n",
    "Using the Master Theorem, determine which algorithm (A or B) has the best time complexity. Start by expressing the time complexity of each algorithm using $T(n)$ as seen in the lectures. Prove your answers."
   ]
  },
  {
   "cell_type": "markdown",
   "metadata": {},
   "source": [
    "**The Master Theorem is:a<mul>T</mul>$\\frac{n}{b}$ + f(n)**, where f(n) is work done at root node that is combining complexity, a is the number of sub-problems at each level and b is the size of each problem at each level."
   ]
  },
  {
   "cell_type": "markdown",
   "metadata": {
    "colab_type": "text",
    "id": "Xz50xKVIoN-m"
   },
   "source": [
    "So for **Algorithm A** the parameters given are: <br/>\n",
    "a=4, b=7, and f(n)=$O(n^2)$ and we got these parameters as the problem is being divided into 4 sub problems each time that is a=4 and each sub-problem has the size $n/b$ where here it is given as $n/7$ so b=7 and since the combining time is $O(n^2)$ d=2, now to deduce the time complexity for A we have to check certain cases that are: <br/> \n",
    "**1. If f(n) = Θ(nc) where c < Logba then T(n) = Θ(nLog<sub>b</sub>a) if a<b<sup>d</sup>** <br/>\n",
    "**2. If f(n) = Θ(nc) where c = Logba then T(n) = Θ(n<sup>c</sup>Log n),if a=b<sup>d</sup>**<br/>\n",
    "**3.If f(n) = Θ(nc) where c > Logba then T(n) = Θ(f(n)) ,if a>b<sup>d</sup>**\n",
    "<br/>\n",
    "\n",
    "So, according to these conditions we have to calculate Log<sub>b</sub>a that is\n",
    "log<sub>7</sub>4 which equals 0.74124 ,so d> log<sub>b</sub>a and a<b<sup>d</sup> so \n",
    "T(n) = O(f(n)) for `Algorithm A`."
   ]
  },
  {
   "cell_type": "markdown",
   "metadata": {},
   "source": [
    "So for **Algorithm B** the parameters given are: <br/>\n",
    "a=7, b=4, and f(n)=$O(n^1/2)$ and we got these parameters as the problem is being divided into 4 sub problems each time that is a=7 and each sub-problem has the size $n/b$ where here it is given as $n/4$ so b=4 and since the combining time is $O(n^2)$ d=1/2, now to deduce the time complexity for A we have to check certain cases that are mentioned as above .\n",
    "<br/>\n",
    "<br/>\n",
    "So, according to these conditions we have to calculate Log<sub>b</sub>a that is\n",
    "log<sub>4</sub>7 which equals 1.40367, so d < log<sub>b</sub>a and a>b<sup>d</sup> as  ($\\sqrt4$) is 2 which is less than a so T(n) = O(n<sup>log<sub>4</sub>7</sup>) which is O(n<sup>1.4</sup>) which is `less than Algorithm A`."
   ]
  },
  {
   "cell_type": "markdown",
   "metadata": {},
   "source": [
    "**So Algorithm B has a better Time complexity than Algorithm A** <br/>\n",
    "`As B is increasing 1.4 times as input size increases but Algorithm A increase twice the time of the input size making it a bad algorithm compared to B.`"
   ]
  },
  {
   "cell_type": "markdown",
   "metadata": {
    "colab_type": "text",
    "id": "W-Da5H5NvKNu"
   },
   "source": [
    "## Q4.2 (2 marks)\n",
    "Eventually your deadline day approaches and you are required to present to your peers your answer to Q4.1 and reasons for making that decision. \n",
    "\n",
    "However, moments before taking to the stage to give the presentation, a strange man approaches you saying that he has found an algorithm C which \n",
    "solves P, with $n$ subproblems, each of size $\\sqrt n$, with O(1) combining \n",
    "time. The man says that he has used the Master Theorem to prove that his algorithm's time complexity was $O(n)$. Without computing the complexity of algorithm C by any other mean, can you trust this man's use of the Master Theorem for this complexity analysis? Why?"
   ]
  },
  {
   "cell_type": "markdown",
   "metadata": {
    "colab_type": "text",
    "id": "0d5kcKDvw8pH"
   },
   "source": [
    "`So, the author of Algorithm C cannot be trusted as in order to use the Master's theorem to detect the recurrence relation the values of a and b should be integer values and in this case a=n and there is actually no divide and conquer if the algorithm recursively divides the problem of size of n into n more subproblems at each level.It also says that f(n) (work done at the root) and needs to be at least as big as the sum of the work done in the worker nodes and that is not the case because work done by the root is O(1) and the work done by the worker nodes is more than n times at every level.`"
   ]
  },
  {
   "cell_type": "markdown",
   "metadata": {
    "colab_type": "text",
    "id": "MiBX_25Qo66s"
   },
   "source": [
    "## Q4.3 (10 marks)\n",
    "After your presentation, you decide to use telescoping to determine the time complexity of algorithm C. Express this runtime using a recurrence with the term $T(n)$, as seen in the lectures, then use telescoping to determine its runtime in the form $T(n) \\in O(n^x \\log^y n)$, with $x$ and $y$ to be determined by you. During your analysis, indicate the point at which you have proven whether algorithm C was better or worse than the algorithm you chose at question Q4.1."
   ]
  },
  {
   "cell_type": "code",
   "execution_count": null,
   "metadata": {},
   "outputs": [],
   "source": []
  }
 ],
 "metadata": {
  "colab": {
   "collapsed_sections": [],
   "name": "FIT5211_2019_S2_Assignment_1_Q4_v1.2.ipynb",
   "provenance": [],
   "version": "0.3.2"
  },
  "kernelspec": {
   "display_name": "Python 3",
   "language": "python",
   "name": "python3"
  },
  "language_info": {
   "codemirror_mode": {
    "name": "ipython",
    "version": 3
   },
   "file_extension": ".py",
   "mimetype": "text/x-python",
   "name": "python",
   "nbconvert_exporter": "python",
   "pygments_lexer": "ipython3",
   "version": "3.6.8"
  }
 },
 "nbformat": 4,
 "nbformat_minor": 1
}
